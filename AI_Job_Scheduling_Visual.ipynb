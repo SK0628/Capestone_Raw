{
 "cells": [
  {
   "cell_type": "markdown",
   "id": "acb8a5a2",
   "metadata": {},
   "source": [
    "# AI Job Scheduling Optimization with Visualizations"
   ]
  },
  {
   "cell_type": "code",
   "execution_count": null,
   "id": "4c38e5ca",
   "metadata": {},
   "outputs": [],
   "source": [
    "import pandas as pd\n",
    "import numpy as np\n",
    "import matplotlib.pyplot as plt\n",
    "import seaborn as sns\n",
    "\n",
    "# Data generation\n",
    "np.random.seed(44)\n",
    "n_jobs = 100\n",
    "job_scheduling = pd.DataFrame({\n",
    "    \"Job_Type\": np.random.choice([\"Prototype\", \"Batch\", \"Custom\"], size=n_jobs, p=[0.3, 0.5, 0.2]),\n",
    "    \"Estimated_Hours\": np.random.normal(6, 2, size=n_jobs).clip(min=2),\n",
    "    \"Material_Type\": np.random.choice([\"IND406\", \"HTM140\", \"IND147\", \"ST6100\"], size=n_jobs),\n",
    "    \"Priority\": np.random.choice([\"Low\", \"Medium\", \"High\"], size=n_jobs, p=[0.2, 0.5, 0.3])\n",
    "})\n",
    "\n",
    "# Scoring function\n",
    "def compute_score(priority, hours):\n",
    "    base = {\"Low\": 1, \"Medium\": 2, \"High\": 3}[priority]\n",
    "    if hours < 4:\n",
    "        base += 2\n",
    "    elif hours <= 7:\n",
    "        base += 1\n",
    "    return base\n",
    "\n",
    "job_scheduling[\"Scheduling_Score\"] = job_scheduling.apply(lambda row: compute_score(row[\"Priority\"], row[\"Estimated_Hours\"]), axis=1)\n",
    "\n",
    "# Violin plot for scheduling score distribution\n",
    "sns.violinplot(x=\"Priority\", y=\"Scheduling_Score\", data=job_scheduling, palette=\"Set2\")\n",
    "plt.title(\"Scheduling Score Distribution by Priority\")\n",
    "plt.show()\n",
    "\n",
    "# Boxplot by job type\n",
    "sns.boxplot(x=\"Job_Type\", y=\"Estimated_Hours\", data=job_scheduling, palette=\"Set3\")\n",
    "plt.title(\"Estimated Hours by Job Type\")\n",
    "plt.show()\n",
    "\n",
    "# Count plot for material usage\n",
    "sns.countplot(x=\"Material_Type\", data=job_scheduling, palette=\"muted\")\n",
    "plt.title(\"Material Usage Frequency\")\n",
    "plt.show()\n",
    "\n",
    "print(job_scheduling.head())"
   ]
  }
 ],
 "metadata": {},
 "nbformat": 4,
 "nbformat_minor": 5
}
